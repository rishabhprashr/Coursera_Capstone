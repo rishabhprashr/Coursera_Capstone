{
  "nbformat": 4,
  "nbformat_minor": 0,
  "metadata": {
    "colab": {
      "name": "battle of neighborhoods.ipynb",
      "provenance": [],
      "toc_visible": true,
      "authorship_tag": "ABX9TyM8nkJO6fK/4Ts5uRO/ts5O",
      "include_colab_link": true
    },
    "kernelspec": {
      "name": "python3",
      "display_name": "Python 3"
    }
  },
  "cells": [
    {
      "cell_type": "markdown",
      "metadata": {
        "id": "view-in-github",
        "colab_type": "text"
      },
      "source": [
        "<a href=\"https://colab.research.google.com/github/rishabhprashr/Coursera_Capstone/blob/master/battle_of_neighborhoods2.ipynb\" target=\"_parent\"><img src=\"https://colab.research.google.com/assets/colab-badge.svg\" alt=\"Open In Colab\"/></a>"
      ]
    },
    {
      "cell_type": "markdown",
      "metadata": {
        "id": "prcXZeX6YApG",
        "colab_type": "text"
      },
      "source": [
        "#Introduction\n",
        "USA is a large and ethnically diverse country. Its largest city New York has a long history of international immigration. Asians, Europeans,Africans,etc make up a large amount of this population and New York is at the centre of it. Cultural diversity brings along a difference of preferences ,opinions,background and tastes. Our goal here is ananlyzing the diversity and popularity of restaurants in the neighborhoods of New York to come up with a business strategy and the most suitable neighborhood to establish the business among all the given neighborhoods. We will use Foursquare places API to find out venues and explore the neighborhoods and scrape out details in a given radius. Our goal here is finding the popular cuisines of different neigborhoods to establish a fusion style restaurant catering to different tastes of multi ethnic population in a diverse neighborhood."
      ]
    },
    {
      "cell_type": "markdown",
      "metadata": {
        "id": "WRLarq_3gokn",
        "colab_type": "text"
      },
      "source": [
        "#Data\n",
        "We will require the neighborhood data of New York along with their location in latitudes and longitudes.The Neighborhoods in NY has a total of 5 boroughs and 306 neighborhoods. In order to segement the neighborhoods and explore them, we will essentially need a dataset that contains the 5 boroughs and the neighborhoods that exist in each borough as well as the the latitude and logitude coordinates of each neighborhood.\n",
        "\n",
        "We will use this freely availabel dataset on the internet: https://geo.nyu.edu/catalog/nyu_2451_34572\n",
        "\n",
        "The dataset contains details of location of different neighborhoods under the given boroughs in json format. We transform the json to a pandas dataframe. We now have a pandas dataframe containing the location data of all the neighborhoods. We define a Foursquare API URI containing the \n",
        "credentials to make requests for the given neighborhoods using the locations of the given neighborhoods. We define and transform the dataframes to select the features of our requirements. We find the top 3 popular cuisines of each neighborhoods and then combine the dataset to find the most popular cuisines overall for a fusion restaurant.\n",
        "\n",
        "For example while making an API call to explore the surroundings of a given neighborhood,we will collect the top venues and segregate them based upon the cuisines in a given radius around the neighborhood and make a similar dataset for all the neighborhoods."
      ]
    },
    {
      "cell_type": "code",
      "metadata": {
        "id": "4KRQmaMf7FCK",
        "colab_type": "code",
        "colab": {}
      },
      "source": [
        ""
      ],
      "execution_count": 0,
      "outputs": []
    }
  ]
}